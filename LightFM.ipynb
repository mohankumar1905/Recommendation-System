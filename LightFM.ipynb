{
  "nbformat": 4,
  "nbformat_minor": 0,
  "metadata": {
    "colab": {
      "name": "Recommendation_system-lightfm.ipynb",
      "provenance": [],
      "collapsed_sections": []
    },
    "kernelspec": {
      "name": "python3",
      "display_name": "Python 3"
    }
  },
  "cells": [
    {
      "cell_type": "code",
      "metadata": {
        "id": "b11fxq7b9PMp",
        "colab_type": "code",
        "colab": {
          "base_uri": "https://localhost:8080/",
          "height": 34
        },
        "outputId": "325f1469-4e22-4f20-91b3-9fafd6851a27"
      },
      "source": [
        "# Load the Drive helper and mount\n",
        "from google.colab import drive\n",
        "\n",
        "# This will prompt for authorization.\n",
        "drive.mount('/content/drive')"
      ],
      "execution_count": null,
      "outputs": [
        {
          "output_type": "stream",
          "text": [
            "Drive already mounted at /content/drive; to attempt to forcibly remount, call drive.mount(\"/content/drive\", force_remount=True).\n"
          ],
          "name": "stdout"
        }
      ]
    },
    {
      "cell_type": "code",
      "metadata": {
        "id": "wkNHOYL--y5_",
        "colab_type": "code",
        "colab": {}
      },
      "source": [
        "hackathon_path = \"/content/drive/My Drive/Hackathon/Recommendation system/\""
      ],
      "execution_count": null,
      "outputs": []
    },
    {
      "cell_type": "code",
      "metadata": {
        "id": "M0Rdtr9rYzg-",
        "colab_type": "code",
        "colab": {
          "base_uri": "https://localhost:8080/",
          "height": 151
        },
        "outputId": "db67a980-6589-4a92-afa0-cd0689e16897"
      },
      "source": [
        "!pip install lightfm"
      ],
      "execution_count": null,
      "outputs": [
        {
          "output_type": "stream",
          "text": [
            "Requirement already satisfied: lightfm in /usr/local/lib/python3.6/dist-packages (1.15)\n",
            "Requirement already satisfied: numpy in /usr/local/lib/python3.6/dist-packages (from lightfm) (1.18.5)\n",
            "Requirement already satisfied: scipy>=0.17.0 in /usr/local/lib/python3.6/dist-packages (from lightfm) (1.4.1)\n",
            "Requirement already satisfied: requests in /usr/local/lib/python3.6/dist-packages (from lightfm) (2.23.0)\n",
            "Requirement already satisfied: urllib3!=1.25.0,!=1.25.1,<1.26,>=1.21.1 in /usr/local/lib/python3.6/dist-packages (from requests->lightfm) (1.24.3)\n",
            "Requirement already satisfied: idna<3,>=2.5 in /usr/local/lib/python3.6/dist-packages (from requests->lightfm) (2.9)\n",
            "Requirement already satisfied: chardet<4,>=3.0.2 in /usr/local/lib/python3.6/dist-packages (from requests->lightfm) (3.0.4)\n",
            "Requirement already satisfied: certifi>=2017.4.17 in /usr/local/lib/python3.6/dist-packages (from requests->lightfm) (2020.6.20)\n"
          ],
          "name": "stdout"
        }
      ]
    },
    {
      "cell_type": "code",
      "metadata": {
        "id": "hgWI3ZIi_MKU",
        "colab_type": "code",
        "colab": {}
      },
      "source": [
        "import os\n",
        "import pandas as pd\n",
        "from lightfm.data import Dataset\n",
        "from lightfm import LightFM\n",
        "from lightfm.evaluation import auc_score\n",
        "import warnings\n",
        "warnings.filterwarnings(\"ignore\")"
      ],
      "execution_count": null,
      "outputs": []
    },
    {
      "cell_type": "code",
      "metadata": {
        "id": "4Ky7_DGM_vKb",
        "colab_type": "code",
        "colab": {}
      },
      "source": [
        "challenge_df = pd.read_csv(hackathon_path + 'train_mddNHeX/challenge_data.csv')\n",
        "train_df = pd.read_csv(hackathon_path + 'train_mddNHeX/train.csv')\n",
        "test_df = pd.read_csv(hackathon_path + 'test_HLxMpl7/test.csv')\n",
        "ss = pd.read_csv(hackathon_path + \"sample_submission_J0OjXLi_DDt3uQN.csv\")"
      ],
      "execution_count": null,
      "outputs": []
    },
    {
      "cell_type": "code",
      "metadata": {
        "id": "9YlYw6PlBCUT",
        "colab_type": "code",
        "colab": {
          "base_uri": "https://localhost:8080/",
          "height": 118
        },
        "outputId": "80a3480a-aff5-4e00-8f4d-7128ff763c24"
      },
      "source": [
        "print(f\"Number of challenges present for each user in train is {train_df['challenge_sequence'].nunique()}\")\n",
        "print(f\"Number of challenges present for each user in test is {test_df['challenge_sequence'].nunique()} and we have to predict last 3 challenge solved by each user in the dataset.\")\n",
        "print(f\"Total number of users present in train is {train_df['user_id'].nunique()}\")\n",
        "print(f\"Total number of challenges present in train is {train_df['challenge'].nunique()}\")\n",
        "print(f\"Total number of users present in test is {test_df['user_id'].nunique()}\")\n",
        "print(f\"Total number of challenges present in test is {test_df['challenge'].nunique()}\")"
      ],
      "execution_count": null,
      "outputs": [
        {
          "output_type": "stream",
          "text": [
            "Number of challenges present for each user in train is 13\n",
            "Number of challenges present for each user in test is 10 and we have to predict last 3 challenge solved by each user in the dataset.\n",
            "Total number of users present in train is 69532\n",
            "Total number of challenges present in train is 5348\n",
            "Total number of users present in test is 39732\n",
            "Total number of challenges present in test is 4477\n"
          ],
          "name": "stdout"
        }
      ]
    },
    {
      "cell_type": "code",
      "metadata": {
        "id": "VAZ1m3c7Vubx",
        "colab_type": "code",
        "colab": {}
      },
      "source": [
        "challenge_df['publish_date'] = pd.to_datetime(challenge_df['publish_date'])\n",
        "challenge_df['challenge_series_ID'][challenge_df['challenge_series_ID'].isnull()] = \"SI-Unknown\"\n",
        "challenge_df['total_submissions'][challenge_df['total_submissions'].isnull()] = challenge_df['total_submissions'].median()\n",
        "challenge_df['author_ID'][challenge_df['author_ID'].isnull()] = \"unknown-author\"\n",
        "challenge_df['author_gender'][challenge_df['author_gender'].isnull()] = \"unknown-gender\"\n",
        "challenge_df['category_id'][challenge_df['category_id'].isnull()] = -99\n",
        "challenge_df['category_id'] = \"category_\" + challenge_df['category_id'].astype(str)\n",
        "challenge_df['programming_language'] = 'programming_language_' + challenge_df['programming_language'].astype(str)\n",
        "challenge_df['author_org_ID'][challenge_df['author_org_ID'].isnull()] = \"AOI-Unknown\"\n",
        "challenge_df['total_submissions'] = pd.qcut(challenge_df['total_submissions'], q=10, labels=['sub_' + str(i) for i in range(10)])"
      ],
      "execution_count": null,
      "outputs": []
    },
    {
      "cell_type": "code",
      "metadata": {
        "id": "XWncAlJojy8j",
        "colab_type": "code",
        "colab": {}
      },
      "source": [
        "train_df['interactions'] = 1\n",
        "test_df['interactions'] = 1"
      ],
      "execution_count": null,
      "outputs": []
    },
    {
      "cell_type": "code",
      "metadata": {
        "id": "oEuL6WFjrSgZ",
        "colab_type": "code",
        "colab": {}
      },
      "source": [
        "challenge_df['year'] = challenge_df['publish_date'].dt.year.astype(str)"
      ],
      "execution_count": null,
      "outputs": []
    },
    {
      "cell_type": "code",
      "metadata": {
        "id": "C2ih-eFFrYta",
        "colab_type": "code",
        "colab": {}
      },
      "source": [
        "del challenge_df['publish_date'] "
      ],
      "execution_count": null,
      "outputs": []
    },
    {
      "cell_type": "code",
      "metadata": {
        "id": "QzVHMPX7nxWb",
        "colab_type": "code",
        "colab": {}
      },
      "source": [
        "challenge_feature_list = []\n",
        "for column in challenge_df.columns:\n",
        "  challenge_feature_list.extend(challenge_df[column].unique())"
      ],
      "execution_count": null,
      "outputs": []
    },
    {
      "cell_type": "code",
      "metadata": {
        "id": "53FrG1OWFx9-",
        "colab_type": "code",
        "colab": {}
      },
      "source": [
        "df = pd.concat([train_df, test_df], axis=0)"
      ],
      "execution_count": null,
      "outputs": []
    },
    {
      "cell_type": "code",
      "metadata": {
        "id": "tFOaRSl_tmsP",
        "colab_type": "code",
        "colab": {}
      },
      "source": [
        "dataset = Dataset()"
      ],
      "execution_count": null,
      "outputs": []
    },
    {
      "cell_type": "code",
      "metadata": {
        "id": "5SiW0H_ey_h3",
        "colab_type": "code",
        "colab": {}
      },
      "source": [
        "challenge_df = challenge_df[challenge_df['challenge_ID'].isin(df['challenge'].unique().tolist())]"
      ],
      "execution_count": null,
      "outputs": []
    },
    {
      "cell_type": "code",
      "metadata": {
        "id": "1B58zwWQ3kNO",
        "colab_type": "code",
        "colab": {}
      },
      "source": [
        "df['input_tuple'] = df[['user_id', 'challenge', 'interactions']].apply(lambda x: (x.user_id, x.challenge, x.interactions), axis=1)"
      ],
      "execution_count": null,
      "outputs": []
    },
    {
      "cell_type": "code",
      "metadata": {
        "id": "QXdJAJfF5oST",
        "colab_type": "code",
        "colab": {}
      },
      "source": [
        "unique_user_ids = list(set(df['user_id'].unique().tolist()))\n",
        "unique_challenge_ids = list(set(df['challenge'].unique().tolist()))\n",
        "\n",
        "dataset.fit(unique_user_ids, unique_challenge_ids, item_features=challenge_feature_list)"
      ],
      "execution_count": null,
      "outputs": []
    },
    {
      "cell_type": "code",
      "metadata": {
        "id": "07bo0o2i7Omd",
        "colab_type": "code",
        "colab": {}
      },
      "source": [
        "user_id_map, user_feature_map, item_id_map, item_feature_map = dataset.mapping()"
      ],
      "execution_count": null,
      "outputs": []
    },
    {
      "cell_type": "code",
      "metadata": {
        "id": "lmsPeO6G_U99",
        "colab_type": "code",
        "colab": {}
      },
      "source": [
        "interactions, weights = dataset.build_interactions(df['input_tuple'])"
      ],
      "execution_count": null,
      "outputs": []
    },
    {
      "cell_type": "code",
      "metadata": {
        "id": "wzyoRjMvbECL",
        "colab_type": "code",
        "colab": {}
      },
      "source": [
        "def create_feature(x):\n",
        "    '''First Column Should be Id'''\n",
        "    return (x.tolist()[0], (x.tolist()[1:]))\n",
        "\n",
        "challenge_df['Challenge_input_Feature'] = challenge_df.apply(create_feature, axis =1)\n",
        "\n",
        "challenge_features_sparse = dataset.build_item_features(challenge_df['Challenge_input_Feature'])"
      ],
      "execution_count": null,
      "outputs": []
    },
    {
      "cell_type": "code",
      "metadata": {
        "id": "48PWp2cmhQDD",
        "colab_type": "code",
        "colab": {}
      },
      "source": [
        "import numpy as np\n",
        "import scipy.sparse as sp\n",
        "from sklearn.utils import shuffle\n",
        "\n",
        "def _shuffle(uids, iids, data, random_state):\n",
        "\n",
        "    shuffle_indices = np.arange(len(uids))\n",
        "    shuffle_indices = shuffle(shuffle_indices, random_state=random_state)\n",
        "\n",
        "    return (uids[shuffle_indices], iids[shuffle_indices], data[shuffle_indices])\n",
        "\n",
        "\n",
        "def random_train_test_split(interactions, test_percentage=0.2, random_state=None):\n",
        "    \"\"\"\n",
        "    Randomly split interactions between training and testing.\n",
        "    This function takes an interaction set and splits it into\n",
        "    two disjoint sets, a training set and a test set. Note that\n",
        "    no effort is made to make sure that all items and users with\n",
        "    interactions in the test set also have interactions in the\n",
        "    training set; this may lead to a partial cold-start problem\n",
        "    in the test set.\n",
        "    To split a sample_weight matrix along the same lines, pass it\n",
        "    into this function with the same random_state seed as was used\n",
        "    for splitting the interactions.\n",
        "    Parameters\n",
        "    ----------\n",
        "    interactions: a scipy sparse matrix containing interactions\n",
        "        The interactions to split.\n",
        "    test_percentage: float, optional\n",
        "        The fraction of interactions to place in the test set.\n",
        "    random_state: int or numpy.random.RandomState, optional\n",
        "        Random seed used to initialize the numpy.random.RandomState number generator.\n",
        "        Accepts an instance of numpy.random.RandomState for backwards compatibility.\n",
        "    Returns\n",
        "    -------\n",
        "    (train, test): (scipy.sparse.COOMatrix,\n",
        "                    scipy.sparse.COOMatrix)\n",
        "         A tuple of (train data, test data)\n",
        "    \"\"\"\n",
        "\n",
        "    if not sp.issparse(interactions):\n",
        "        raise ValueError(\"Interactions must be a scipy.sparse matrix.\")\n",
        "\n",
        "    if not isinstance(random_state, np.random.RandomState):\n",
        "        random_state = np.random.RandomState(seed=random_state)\n",
        "\n",
        "    interactions = interactions.tocoo()\n",
        "    shape = interactions.shape\n",
        "    uids, iids, data = (interactions.row, interactions.col, interactions.data)\n",
        "\n",
        "    uids, iids, data = _shuffle(uids, iids, data, random_state)\n",
        "\n",
        "    cutoff = int((1.0 - test_percentage) * len(uids))\n",
        "\n",
        "    train_idx = slice(None, cutoff)\n",
        "    test_idx = slice(cutoff, None)\n",
        "    \n",
        "    train = sp.coo_matrix((data[train_idx], (uids[train_idx], iids[train_idx])), shape=shape, dtype=interactions.dtype)\n",
        "    test = sp.coo_matrix((data[test_idx], (uids[test_idx], iids[test_idx])), shape=shape, dtype=interactions.dtype)\n",
        "\n",
        "    return train, test"
      ],
      "execution_count": null,
      "outputs": []
    },
    {
      "cell_type": "code",
      "metadata": {
        "id": "Y47LfzLGhZWu",
        "colab_type": "code",
        "colab": {}
      },
      "source": [
        "train_interactions, test_interactions= random_train_test_split(interactions, test_percentage=0.2, random_state=2)"
      ],
      "execution_count": null,
      "outputs": []
    },
    {
      "cell_type": "code",
      "metadata": {
        "id": "PHt-TiejlXx_",
        "colab_type": "code",
        "colab": {
          "base_uri": "https://localhost:8080/",
          "height": 50
        },
        "outputId": "23710e68-a048-40b3-beb7-f2271e92ebd7"
      },
      "source": [
        "train_interactions"
      ],
      "execution_count": null,
      "outputs": [
        {
          "output_type": "execute_result",
          "data": {
            "text/plain": [
              "<109264x5502 sparse matrix of type '<class 'numpy.float32'>'\n",
              "\twith 1040988 stored elements in COOrdinate format>"
            ]
          },
          "metadata": {
            "tags": []
          },
          "execution_count": 110
        }
      ]
    },
    {
      "cell_type": "code",
      "metadata": {
        "id": "bsPGExfAlbmZ",
        "colab_type": "code",
        "colab": {
          "base_uri": "https://localhost:8080/",
          "height": 34
        },
        "outputId": "f8c548fc-fd34-4258-c2f4-692d07568169"
      },
      "source": [
        "interactions.shape"
      ],
      "execution_count": null,
      "outputs": [
        {
          "output_type": "execute_result",
          "data": {
            "text/plain": [
              "(109264, 5502)"
            ]
          },
          "metadata": {
            "tags": []
          },
          "execution_count": 111
        }
      ]
    },
    {
      "cell_type": "code",
      "metadata": {
        "id": "qYXXvP0pAeg9",
        "colab_type": "code",
        "colab": {
          "base_uri": "https://localhost:8080/",
          "height": 134
        },
        "outputId": "2a8156e1-b9d0-4c13-d490-176f09bd577d"
      },
      "source": [
        "model = LightFM(learning_rate=0.05, loss='warp', random_state=2019)\n",
        "\n",
        "model.fit(train_interactions, item_features=challenge_features_sparse, epochs=5, verbose=True)\n",
        "\n",
        "print(auc_score(model, train_interactions, item_features=challenge_features_sparse).mean())\n",
        "\n",
        "print(auc_score(model, test_interactions, train_interactions=train_interactions, item_features=challenge_features_sparse, num_threads=8).mean())"
      ],
      "execution_count": null,
      "outputs": [
        {
          "output_type": "stream",
          "text": [
            "Epoch 0\n",
            "Epoch 1\n",
            "Epoch 2\n",
            "Epoch 3\n",
            "Epoch 4\n",
            "0.9779495\n",
            "0.97198004\n"
          ],
          "name": "stdout"
        }
      ]
    },
    {
      "cell_type": "code",
      "metadata": {
        "id": "EHHx6hYIc0S0",
        "colab_type": "code",
        "colab": {}
      },
      "source": [
        "user_challenges_faced = test_df.groupby('user_id')['challenge'].apply(list).to_dict()"
      ],
      "execution_count": null,
      "outputs": []
    },
    {
      "cell_type": "code",
      "metadata": {
        "id": "t9C3qZw7usFM",
        "colab_type": "code",
        "colab": {
          "base_uri": "https://localhost:8080/",
          "height": 34
        },
        "outputId": "79991461-7678-4dec-ef71-0b6dffc56435"
      },
      "source": [
        "ss.shape[0]/3"
      ],
      "execution_count": null,
      "outputs": [
        {
          "output_type": "execute_result",
          "data": {
            "text/plain": [
              "39732.0"
            ]
          },
          "metadata": {
            "tags": []
          },
          "execution_count": 143
        }
      ]
    },
    {
      "cell_type": "code",
      "metadata": {
        "id": "NFRv0gshuz_p",
        "colab_type": "code",
        "colab": {
          "base_uri": "https://localhost:8080/",
          "height": 185
        },
        "outputId": "d3c49875-f9b3-46f1-80e6-382d4d18b8f1"
      },
      "source": [
        "!pip install pandarallel"
      ],
      "execution_count": null,
      "outputs": [
        {
          "output_type": "stream",
          "text": [
            "Collecting pandarallel\n",
            "  Downloading https://files.pythonhosted.org/packages/99/06/bd582106766c483d6da51c05b0cdd7cb61894bb843c7ecc4789032232327/pandarallel-1.4.8.tar.gz\n",
            "Requirement already satisfied: dill in /usr/local/lib/python3.6/dist-packages (from pandarallel) (0.3.2)\n",
            "Building wheels for collected packages: pandarallel\n",
            "  Building wheel for pandarallel (setup.py) ... \u001b[?25l\u001b[?25hdone\n",
            "  Created wheel for pandarallel: filename=pandarallel-1.4.8-cp36-none-any.whl size=16112 sha256=2138f163a14fb68010a0efa9b86f03e891a219da79be12d69debff0f6819b05e\n",
            "  Stored in directory: /root/.cache/pip/wheels/75/a2/85/b45be2e86d86e9ec5da6d05c4b994d18c81abe76e3f39415aa\n",
            "Successfully built pandarallel\n",
            "Installing collected packages: pandarallel\n",
            "Successfully installed pandarallel-1.4.8\n"
          ],
          "name": "stdout"
        }
      ]
    },
    {
      "cell_type": "code",
      "metadata": {
        "id": "5D0tdonuu7Sd",
        "colab_type": "code",
        "colab": {
          "base_uri": "https://localhost:8080/",
          "height": 50
        },
        "outputId": "dadb66bf-fee7-49e8-fa1c-7c12877044bf"
      },
      "source": [
        "from pandarallel import pandarallel\n",
        "pandarallel.initialize()"
      ],
      "execution_count": null,
      "outputs": [
        {
          "output_type": "stream",
          "text": [
            "INFO: Pandarallel will run on 2 workers.\n",
            "INFO: Pandarallel will use Memory file system to transfer data between the main process and workers.\n"
          ],
          "name": "stdout"
        }
      ]
    },
    {
      "cell_type": "code",
      "metadata": {
        "id": "d_M1BAvakzc7",
        "colab_type": "code",
        "colab": {}
      },
      "source": [
        "def predict_test_sequence(input_data):\n",
        "  user_id = int(input_data)\n",
        "  new_challenges = list(set(unique_challenge_ids) - set(user_challenges_faced[user_id]))\n",
        "  scores = model.predict(user_id_map[user_id], [item_id_map[id] for id in new_challenges], item_features=challenge_features_sparse)\n",
        "  return [user_id, [x for _,x in sorted(zip(scores,new_challenges), reverse=True)][:3]]\n",
        "user_challenge_recommendations = ss['user_sequence'].str[:-3].drop_duplicates().reset_index(drop=True).parallel_apply(predict_test_sequence).apply(pd.Series).set_index(0).to_dict()[1]"
      ],
      "execution_count": null,
      "outputs": []
    },
    {
      "cell_type": "code",
      "metadata": {
        "id": "7FCzBRcau53L",
        "colab_type": "code",
        "colab": {}
      },
      "source": [
        "def fill_recommendations(input_data):\n",
        "  user_id, seq_id = input_data.split(\"_\")\n",
        "  user_id, seq_id = int(user_id), int(seq_id)\n",
        "  return user_challenge_recommendations[user_id][seq_id-11]\n",
        "\n",
        "ss['challenge'] = ss['user_sequence'].parallel_apply(fill_recommendations)"
      ],
      "execution_count": null,
      "outputs": []
    },
    {
      "cell_type": "code",
      "metadata": {
        "id": "_AJzEyrEk3sE",
        "colab_type": "code",
        "colab": {
          "base_uri": "https://localhost:8080/",
          "height": 196
        },
        "outputId": "7a260c72-4ec3-4c35-8333-a1404f54a637"
      },
      "source": [
        "ss.head()"
      ],
      "execution_count": null,
      "outputs": [
        {
          "output_type": "execute_result",
          "data": {
            "text/html": [
              "<div>\n",
              "<style scoped>\n",
              "    .dataframe tbody tr th:only-of-type {\n",
              "        vertical-align: middle;\n",
              "    }\n",
              "\n",
              "    .dataframe tbody tr th {\n",
              "        vertical-align: top;\n",
              "    }\n",
              "\n",
              "    .dataframe thead th {\n",
              "        text-align: right;\n",
              "    }\n",
              "</style>\n",
              "<table border=\"1\" class=\"dataframe\">\n",
              "  <thead>\n",
              "    <tr style=\"text-align: right;\">\n",
              "      <th></th>\n",
              "      <th>user_sequence</th>\n",
              "      <th>challenge</th>\n",
              "    </tr>\n",
              "  </thead>\n",
              "  <tbody>\n",
              "    <tr>\n",
              "      <th>0</th>\n",
              "      <td>4577_11</td>\n",
              "      <td>CI26051</td>\n",
              "    </tr>\n",
              "    <tr>\n",
              "      <th>1</th>\n",
              "      <td>4577_12</td>\n",
              "      <td>CI25126</td>\n",
              "    </tr>\n",
              "    <tr>\n",
              "      <th>2</th>\n",
              "      <td>4577_13</td>\n",
              "      <td>CI26052</td>\n",
              "    </tr>\n",
              "    <tr>\n",
              "      <th>3</th>\n",
              "      <td>4578_11</td>\n",
              "      <td>CI25126</td>\n",
              "    </tr>\n",
              "    <tr>\n",
              "      <th>4</th>\n",
              "      <td>4578_12</td>\n",
              "      <td>CI23691</td>\n",
              "    </tr>\n",
              "  </tbody>\n",
              "</table>\n",
              "</div>"
            ],
            "text/plain": [
              "  user_sequence challenge\n",
              "0       4577_11   CI26051\n",
              "1       4577_12   CI25126\n",
              "2       4577_13   CI26052\n",
              "3       4578_11   CI25126\n",
              "4       4578_12   CI23691"
            ]
          },
          "metadata": {
            "tags": []
          },
          "execution_count": 198
        }
      ]
    },
    {
      "cell_type": "code",
      "metadata": {
        "id": "5XnQRnQ0sk-U",
        "colab_type": "code",
        "colab": {}
      },
      "source": [
        "ss.to_csv(hackathon_path + \"sample_submission.csv\", index=False)"
      ],
      "execution_count": null,
      "outputs": []
    },
    {
      "cell_type": "code",
      "metadata": {
        "id": "5iwCTFACtMY5",
        "colab_type": "code",
        "colab": {
          "base_uri": "https://localhost:8080/",
          "height": 34
        },
        "outputId": "c50982fd-83d1-421e-cf7f-8e130116ffbf"
      },
      "source": [
        "print(\"Note: LightFM alone gets a score of zero in submission files.\")"
      ],
      "execution_count": null,
      "outputs": [
        {
          "output_type": "stream",
          "text": [
            "Note: LightFM alone gets a score of zero in submission files.\n"
          ],
          "name": "stdout"
        }
      ]
    },
    {
      "cell_type": "code",
      "metadata": {
        "id": "y0z_GXe98SdC",
        "colab_type": "code",
        "colab": {
          "base_uri": "https://localhost:8080/",
          "height": 34
        },
        "outputId": "3e818b0b-6759-4b4a-bf15-acc9dc36ddfc"
      },
      "source": [
        "cd /content/drive/My Drive/Hackathon/Recommendation system/"
      ],
      "execution_count": null,
      "outputs": [
        {
          "output_type": "stream",
          "text": [
            "/content/drive/My Drive/Hackathon/Recommendation system\n"
          ],
          "name": "stdout"
        }
      ]
    },
    {
      "cell_type": "code",
      "metadata": {
        "id": "LV4FqjB49Wnf",
        "colab_type": "code",
        "colab": {
          "base_uri": "https://localhost:8080/",
          "height": 84
        },
        "outputId": "aef49126-6335-49bd-a26b-76fcb44ac330"
      },
      "source": [
        "!git clone \"https://github.com/CRIPAC-DIG/SR-GNN.git\""
      ],
      "execution_count": null,
      "outputs": [
        {
          "output_type": "stream",
          "text": [
            "Cloning into 'SR-GNN'...\n",
            "remote: Enumerating objects: 44, done.\u001b[K\n",
            "remote: Total 44 (delta 0), reused 0 (delta 0), pack-reused 44\u001b[K\n",
            "Unpacking objects: 100% (44/44), done.\n"
          ],
          "name": "stdout"
        }
      ]
    },
    {
      "cell_type": "code",
      "metadata": {
        "id": "7OwLsu-i9dE5",
        "colab_type": "code",
        "colab": {}
      },
      "source": [
        ""
      ],
      "execution_count": null,
      "outputs": []
    }
  ]
}
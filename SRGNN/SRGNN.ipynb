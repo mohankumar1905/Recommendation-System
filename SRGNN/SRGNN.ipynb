{
  "nbformat": 4,
  "nbformat_minor": 0,
  "metadata": {
    "colab": {
      "name": "SRGNN.ipynb",
      "provenance": [],
      "collapsed_sections": []
    },
    "kernelspec": {
      "name": "python3",
      "display_name": "Python 3"
    },
    "accelerator": "GPU"
  },
  "cells": [
    {
      "cell_type": "code",
      "metadata": {
        "id": "UqyAEiHwAoi_",
        "colab_type": "code",
        "colab": {
          "base_uri": "https://localhost:8080/",
          "height": 33
        },
        "outputId": "7f334a7d-f760-414c-e65e-ab1b16bc7b43"
      },
      "source": [
        "# Load the Drive helper and mount\n",
        "from google.colab import drive\n",
        "\n",
        "# This will prompt for authorization.\n",
        "drive.mount('/content/drive')"
      ],
      "execution_count": null,
      "outputs": [
        {
          "output_type": "stream",
          "text": [
            "Drive already mounted at /content/drive; to attempt to forcibly remount, call drive.mount(\"/content/drive\", force_remount=True).\n"
          ],
          "name": "stdout"
        }
      ]
    },
    {
      "cell_type": "code",
      "metadata": {
        "id": "-VXCzAwXAwvb",
        "colab_type": "code",
        "colab": {
          "base_uri": "https://localhost:8080/",
          "height": 33
        },
        "outputId": "37adbd00-457f-4c6d-8eee-928f93799631"
      },
      "source": [
        "cd \"/content/drive/My Drive/Hackathon/Recommendation system/SR-GNN/pytorch_code/\""
      ],
      "execution_count": null,
      "outputs": [
        {
          "output_type": "stream",
          "text": [
            "/content/drive/My Drive/Hackathon/Recommendation system/SR-GNN/pytorch_code\n"
          ],
          "name": "stdout"
        }
      ]
    },
    {
      "cell_type": "code",
      "metadata": {
        "id": "M3Q_NJQ7BbzL",
        "colab_type": "code",
        "colab": {
          "base_uri": "https://localhost:8080/",
          "height": 33
        },
        "outputId": "a77c0271-087c-4f33-af32-48217b875d37"
      },
      "source": [
        "!pip install DotMap"
      ],
      "execution_count": null,
      "outputs": [
        {
          "output_type": "stream",
          "text": [
            "Requirement already satisfied: DotMap in /usr/local/lib/python3.6/dist-packages (1.3.17)\n"
          ],
          "name": "stdout"
        }
      ]
    },
    {
      "cell_type": "code",
      "metadata": {
        "id": "It7bjCByC_3h",
        "colab_type": "code",
        "colab": {}
      },
      "source": [
        "# Preprocessing\n",
        "import pandas as pd\n",
        "train_df = pd.read_csv('/content/drive/My Drive/Hackathon/Recommendation system/train_mddNHeX/train.csv')\n",
        "test_df = pd.read_csv('/content/drive/My Drive/Hackathon/Recommendation system/test_HLxMpl7/test.csv')"
      ],
      "execution_count": null,
      "outputs": []
    },
    {
      "cell_type": "code",
      "metadata": {
        "id": "dO5yoD7fHJN_",
        "colab_type": "code",
        "colab": {}
      },
      "source": [
        "challenge_id_mapping = {}\n",
        "counter = 1\n",
        "for challenge in set(train_df['challenge'].tolist() + test_df['challenge'].tolist()):\n",
        "  challenge_id_mapping[challenge] = counter\n",
        "  counter += 1"
      ],
      "execution_count": null,
      "outputs": []
    },
    {
      "cell_type": "code",
      "metadata": {
        "id": "-9jyYQM8HJLZ",
        "colab_type": "code",
        "colab": {}
      },
      "source": [
        "train_df['challenge'] = train_df['challenge'].map(challenge_id_mapping)\n",
        "test_df['challenge'] = test_df['challenge'].map(challenge_id_mapping)"
      ],
      "execution_count": null,
      "outputs": []
    },
    {
      "cell_type": "markdown",
      "metadata": {
        "id": "dRMgj1QN4C-9",
        "colab_type": "text"
      },
      "source": [
        ""
      ]
    },
    {
      "cell_type": "code",
      "metadata": {
        "id": "Lo5c4P3WCRFx",
        "colab_type": "code",
        "colab": {}
      },
      "source": [
        "N_NODE = len(challenge_id_mapping) + 1"
      ],
      "execution_count": null,
      "outputs": []
    },
    {
      "cell_type": "code",
      "metadata": {
        "id": "hkjOzLsCAWPa",
        "colab_type": "code",
        "colab": {
          "base_uri": "https://localhost:8080/",
          "height": 196
        },
        "outputId": "4441e833-85b1-4fe8-96d9-ca707d25daaa"
      },
      "source": [
        "train_df.head()"
      ],
      "execution_count": null,
      "outputs": [
        {
          "output_type": "execute_result",
          "data": {
            "text/html": [
              "<div>\n",
              "<style scoped>\n",
              "    .dataframe tbody tr th:only-of-type {\n",
              "        vertical-align: middle;\n",
              "    }\n",
              "\n",
              "    .dataframe tbody tr th {\n",
              "        vertical-align: top;\n",
              "    }\n",
              "\n",
              "    .dataframe thead th {\n",
              "        text-align: right;\n",
              "    }\n",
              "</style>\n",
              "<table border=\"1\" class=\"dataframe\">\n",
              "  <thead>\n",
              "    <tr style=\"text-align: right;\">\n",
              "      <th></th>\n",
              "      <th>user_sequence</th>\n",
              "      <th>user_id</th>\n",
              "      <th>challenge_sequence</th>\n",
              "      <th>challenge</th>\n",
              "    </tr>\n",
              "  </thead>\n",
              "  <tbody>\n",
              "    <tr>\n",
              "      <th>0</th>\n",
              "      <td>4576_1</td>\n",
              "      <td>4576</td>\n",
              "      <td>1</td>\n",
              "      <td>4849</td>\n",
              "    </tr>\n",
              "    <tr>\n",
              "      <th>1</th>\n",
              "      <td>4576_2</td>\n",
              "      <td>4576</td>\n",
              "      <td>2</td>\n",
              "      <td>5501</td>\n",
              "    </tr>\n",
              "    <tr>\n",
              "      <th>2</th>\n",
              "      <td>4576_3</td>\n",
              "      <td>4576</td>\n",
              "      <td>3</td>\n",
              "      <td>1212</td>\n",
              "    </tr>\n",
              "    <tr>\n",
              "      <th>3</th>\n",
              "      <td>4576_4</td>\n",
              "      <td>4576</td>\n",
              "      <td>4</td>\n",
              "      <td>1873</td>\n",
              "    </tr>\n",
              "    <tr>\n",
              "      <th>4</th>\n",
              "      <td>4576_5</td>\n",
              "      <td>4576</td>\n",
              "      <td>5</td>\n",
              "      <td>2835</td>\n",
              "    </tr>\n",
              "  </tbody>\n",
              "</table>\n",
              "</div>"
            ],
            "text/plain": [
              "  user_sequence  user_id  challenge_sequence  challenge\n",
              "0        4576_1     4576                   1       4849\n",
              "1        4576_2     4576                   2       5501\n",
              "2        4576_3     4576                   3       1212\n",
              "3        4576_4     4576                   4       1873\n",
              "4        4576_5     4576                   5       2835"
            ]
          },
          "metadata": {
            "tags": []
          },
          "execution_count": 8
        }
      ]
    },
    {
      "cell_type": "code",
      "metadata": {
        "id": "6E073eF_HJI6",
        "colab_type": "code",
        "colab": {}
      },
      "source": [
        "def prepare_dataset(challenge):\n",
        "    '''Convert a session into multiple sessions iteratively'''\n",
        "    list_sess = list(challenge)\n",
        "    sess_length = len(list_sess)\n",
        "    if sess_length < 2:\n",
        "        return None\n",
        "    if sess_length == 2:\n",
        "        return [list_sess]\n",
        "    else:\n",
        "        return_list = []\n",
        "        for i in range(sess_length - 1):\n",
        "            return_list.append(list_sess[:sess_length - i])\n",
        "        return return_list\n",
        "\n",
        "def prepare_df(dataframe):\n",
        "\n",
        "  sessions_in_lists = dataframe.groupby(['user_id']).challenge.apply(prepare_dataset).tolist()\n",
        "\n",
        "  session_input, session_target = [], []\n",
        "  for i in sessions_in_lists:\n",
        "      for j in i:\n",
        "          session_input.append(j[:-1])\n",
        "          session_target.append(j[-1])\n",
        "\n",
        "  final_sessions = [session_input, session_target]\n",
        "  return final_sessions"
      ],
      "execution_count": null,
      "outputs": []
    },
    {
      "cell_type": "code",
      "metadata": {
        "id": "YKVIRDRP_RaT",
        "colab_type": "code",
        "colab": {}
      },
      "source": [
        "import argparse\n",
        "import pickle\n",
        "import time\n",
        "from utils import build_graph, Data, split_validation\n",
        "import imp\n",
        "from model import *\n",
        "from dotmap import DotMap"
      ],
      "execution_count": null,
      "outputs": []
    },
    {
      "cell_type": "code",
      "metadata": {
        "id": "dX8EMkJY_hBa",
        "colab_type": "code",
        "colab": {}
      },
      "source": [
        "opt = {\n",
        "    'dataset': 'Next_Challenge',\n",
        "    'batchSize': 100,\n",
        "    'hiddenSize': 100,\n",
        "    'epoch': 7,\n",
        "    'lr': 0.001,\n",
        "    'lr_dc' : 0.1,\n",
        "    'lr_dc_step' :3,\n",
        "    'l2' : 1e-5,\n",
        "    'step' : 1,\n",
        "    'patience' : 10,\n",
        "    'non-hybrid': True,\n",
        "    'validation': False,\n",
        "    'valid_portion': 0.1,\n",
        "    'K':3\n",
        "}\n",
        "opt = DotMap(opt)"
      ],
      "execution_count": null,
      "outputs": []
    },
    {
      "cell_type": "code",
      "metadata": {
        "id": "TJVgI8pX_Y86",
        "colab_type": "code",
        "colab": {}
      },
      "source": [
        "train_data = prepare_df(train_df)\n",
        "if opt.validation:\n",
        "    train_data, valid_data = split_validation(train_data, opt.valid_portion)\n",
        "    test_data = valid_data\n",
        "else:\n",
        "    test_data = prepare_df(test_df)\n",
        "# all_train_seq = pickle.load(open('../datasets/' + opt.dataset + '/all_train_seq.txt', 'rb'))\n",
        "# g = build_graph(all_train_seq)\n",
        "train_data = Data(train_data, shuffle=True)\n",
        "test_data = Data(test_data, shuffle=False)\n",
        "# del all_train_seq, g\n",
        "if opt.dataset == 'diginetica':\n",
        "    n_node = 43098\n",
        "elif opt.dataset == 'yoochoose1_64' or opt.dataset == 'yoochoose1_4':\n",
        "    n_node = 37484\n",
        "else:\n",
        "    n_node = N_NODE"
      ],
      "execution_count": null,
      "outputs": []
    },
    {
      "cell_type": "code",
      "metadata": {
        "id": "g7IC37tazcK_",
        "colab_type": "code",
        "colab": {}
      },
      "source": [
        "model = trans_to_cuda(SessionGraph(opt, n_node))"
      ],
      "execution_count": null,
      "outputs": []
    },
    {
      "cell_type": "code",
      "metadata": {
        "id": "rLzssm1V-4JS",
        "colab_type": "code",
        "colab": {}
      },
      "source": [
        "def forward(model, i, data):\n",
        "    alias_inputs, A, items, mask, targets = data.get_slice(i)\n",
        "    alias_inputs = trans_to_cuda(torch.Tensor(alias_inputs).long())\n",
        "    items = trans_to_cuda(torch.Tensor(items).long())\n",
        "    A = trans_to_cuda(torch.Tensor(A).float())\n",
        "    mask = trans_to_cuda(torch.Tensor(mask).long())\n",
        "    hidden = model(items, A)\n",
        "    get = lambda i: hidden[i][alias_inputs[i]]\n",
        "    seq_hidden = torch.stack([get(i) for i in torch.arange(len(alias_inputs)).long()])\n",
        "    return targets, model.compute_scores(seq_hidden, mask)\n",
        "\n",
        "def train(model, train_data):\n",
        "    \n",
        "    print('start training: ', datetime.datetime.now())\n",
        "    model.train()\n",
        "    total_loss = 0.0\n",
        "    slices = train_data.generate_batch(model.batch_size)\n",
        "    for i, j in zip(slices, np.arange(len(slices))):\n",
        "        model.optimizer.zero_grad()\n",
        "        targets, scores = forward(model, i, train_data)\n",
        "        targets = trans_to_cuda(torch.Tensor(targets).long())\n",
        "        loss = model.loss_function(scores, (targets - 1))\n",
        "        loss.backward()\n",
        "        model.optimizer.step()\n",
        "        total_loss += loss\n",
        "        if j % int(len(slices) / 5 + 1) == 0:\n",
        "            print('[%d/%d] Loss: %.4f' % (j, len(slices), loss.item()))\n",
        "    print('\\tLoss:\\t%.3f' % total_loss)\n",
        "    model.scheduler.step()\n",
        "    \n",
        "\n",
        "def test(model, test_data):\n",
        "    print('start predicting: ', datetime.datetime.now())\n",
        "    model.eval()\n",
        "    hit, mrr = [], []\n",
        "    slices = test_data.generate_batch(model.batch_size)\n",
        "    for i in slices:\n",
        "        targets, scores = forward(model, i, test_data)\n",
        "        sub_scores = scores.topk(opt.K)[1]\n",
        "        sub_scores = trans_to_cpu(sub_scores).detach().numpy()\n",
        "        for score, target, mask in zip(sub_scores, targets, test_data.mask):\n",
        "            hit.append(np.isin(target - 1, score))\n",
        "            if len(np.where(score == target - 1)[0]) == 0:\n",
        "                mrr.append(0)\n",
        "            else:\n",
        "                mrr.append(1 / (np.where(score == target - 1)[0][0] + 1))\n",
        "    hit = np.mean(hit) * 100\n",
        "    mrr = np.mean(mrr) * 100\n",
        "    return hit, mrr\n",
        "\n",
        "def generate_graph(input_session):\n",
        "  sess_len = len(input_session)\n",
        "  \n",
        "  if sess_len < 13:\n",
        "    inputs = input_session + ([0] * (13 - sess_len))\n",
        "    mask = np.array(([1] * sess_len) + ([0] * (13 - sess_len)))\n",
        "  \n",
        "  items, A, alias_inputs = [], [], []\n",
        "  node = np.unique(inputs)\n",
        "  items.append(node.tolist()) #append unique node followed by zeros upto 10.\n",
        "  u_A = np.zeros((sess_len+1, sess_len+1))\n",
        "  for i in np.arange(len(inputs) - 1):\n",
        "      if inputs[i + 1] == 0:\n",
        "          break\n",
        "      u = np.where(node == inputs[i])[0][0]\n",
        "      v = np.where(node == inputs[i + 1])[0][0]\n",
        "      u_A[u][v] = 1\n",
        "  u_sum_in = np.sum(u_A, 0)\n",
        "  u_sum_in[np.where(u_sum_in == 0)] = 1\n",
        "  u_A_in = np.divide(u_A, u_sum_in)\n",
        "  u_sum_out = np.sum(u_A, 1)\n",
        "  u_sum_out[np.where(u_sum_out == 0)] = 1\n",
        "  u_A_out = np.divide(u_A.transpose(), u_sum_out)\n",
        "  u_A = np.concatenate([u_A_in, u_A_out]).transpose()\n",
        "  A.append(u_A)\n",
        "  alias_inputs.append([np.where(node == i)[0][0] for i in inputs])    \n",
        "  return alias_inputs, A, items, np.array([mask]), np.array(sess_len)\n",
        "\n",
        "def predict_next_items(input_session):\n",
        "  model.eval()\n",
        "  alias_inputs, A, items, mask, targets = generate_graph(input_session)\n",
        "  alias_inputs = trans_to_cuda(torch.Tensor(alias_inputs).long())\n",
        "  items = trans_to_cuda(torch.Tensor(items).long())\n",
        "  A = trans_to_cuda(torch.Tensor(A).float())\n",
        "  mask = trans_to_cuda(torch.Tensor(mask).long())\n",
        "  hidden = model(items, A)\n",
        "  get = lambda i: hidden[i][alias_inputs[i]]\n",
        "  seq_hidden = torch.stack([get(i) for i in torch.arange(len(alias_inputs)).long()])\n",
        "  scores = model.compute_scores(seq_hidden, mask)\n",
        "  sub_scores = scores.topk(opt.K)[1]\n",
        "  sub_scores = trans_to_cpu(sub_scores).detach().numpy()\n",
        "  return list(sub_scores[0]+ 1)[:3]"
      ],
      "execution_count": null,
      "outputs": []
    },
    {
      "cell_type": "code",
      "metadata": {
        "id": "B2O_dZWyKOYx",
        "colab_type": "code",
        "colab": {
          "base_uri": "https://localhost:8080/",
          "height": 1000
        },
        "outputId": "3c3c5a7f-5f7c-47f4-9663-a354de9e5dc3"
      },
      "source": [
        "start = time.time()\n",
        "best_result = [0, 0]\n",
        "best_epoch = [0, 0]\n",
        "bad_counter = 0\n",
        "for epoch in range(opt.epoch):\n",
        "    print('-------------------------------------------------------')\n",
        "    print('epoch: ', epoch)\n",
        "    train(model, train_data)\n",
        "    hit, mrr = test(model, test_data)\n",
        "    flag = 0\n",
        "    if hit >= best_result[0]:\n",
        "        best_result[0] = hit\n",
        "        best_epoch[0] = epoch\n",
        "        flag = 1\n",
        "    if mrr >= best_result[1]:\n",
        "        best_result[1] = mrr\n",
        "        best_epoch[1] = epoch\n",
        "        flag = 1\n",
        "    print('Best Result:')\n",
        "    print('\\tRecall@3:\\t%.4f\\tMMR@3:\\t%.4f\\tEpoch:\\t%d,\\t%d'% (best_result[0], best_result[1], best_epoch[0], best_epoch[1]))\n",
        "    bad_counter += 1 - flag\n",
        "    if bad_counter >= opt.patience:\n",
        "        break\n",
        "    input = test_df[0:10000].groupby(['user_id']).challenge.apply(list).apply(lambda x : x[:9])\n",
        "    target = test_df[0:10000].groupby(['user_id']).challenge.apply(list).apply(lambda x : x[9])\n",
        "    print((input.apply(predict_next_items).apply(lambda x: x[1]) == target).value_counts())\n",
        "    torch.save(model.state_dict(), \"/content/drive/My Drive/Hackathon/Recommendation system/model_{0:03d}.pwf\".format(epoch)) \n",
        "print('-------------------------------------------------------')\n",
        "end = time.time()\n",
        "print(\"Run time: %f s\" % (end - start))\n"
      ],
      "execution_count": 15,
      "outputs": [
        {
          "output_type": "stream",
          "text": [
            "-------------------------------------------------------\n",
            "epoch:  0\n",
            "start training:  2020-07-15 02:41:14.985510\n",
            "[0/8344] Loss: 8.6111\n",
            "[1669/8344] Loss: 4.9291\n",
            "[3338/8344] Loss: 4.8114\n",
            "[5007/8344] Loss: 4.2238\n",
            "[6676/8344] Loss: 4.1932\n",
            "\tLoss:\t39033.789\n",
            "start predicting:  2020-07-15 02:49:19.337238\n",
            "Best Result:\n",
            "\tRecall@3:\t29.5888\tMMR@3:\t21.1234\tEpoch:\t0,\t0\n",
            "False    857\n",
            "True     143\n",
            "Name: challenge, dtype: int64\n",
            "-------------------------------------------------------\n",
            "epoch:  1\n",
            "start training:  2020-07-15 02:50:58.625120\n",
            "[0/8344] Loss: 3.9714\n",
            "[1669/8344] Loss: 4.1769\n",
            "[3338/8344] Loss: 4.2373\n",
            "[5007/8344] Loss: 3.9126\n",
            "[6676/8344] Loss: 4.2017\n",
            "\tLoss:\t34088.219\n",
            "start predicting:  2020-07-15 02:59:01.932122\n",
            "Best Result:\n",
            "\tRecall@3:\t32.6322\tMMR@3:\t23.5865\tEpoch:\t1,\t1\n",
            "False    846\n",
            "True     154\n",
            "Name: challenge, dtype: int64\n",
            "-------------------------------------------------------\n",
            "epoch:  2\n",
            "start training:  2020-07-15 03:00:41.776899\n",
            "[0/8344] Loss: 3.7069\n",
            "[1669/8344] Loss: 3.4428\n",
            "[3338/8344] Loss: 3.8821\n",
            "[5007/8344] Loss: 4.1531\n",
            "[6676/8344] Loss: 4.0373\n",
            "\tLoss:\t32705.734\n",
            "start predicting:  2020-07-15 03:08:41.974208\n",
            "Best Result:\n",
            "\tRecall@3:\t33.7260\tMMR@3:\t24.5161\tEpoch:\t2,\t2\n",
            "False    842\n",
            "True     158\n",
            "Name: challenge, dtype: int64\n",
            "-------------------------------------------------------\n",
            "epoch:  3\n",
            "start training:  2020-07-15 03:10:21.587864\n",
            "[0/8344] Loss: 3.8275\n",
            "[1669/8344] Loss: 3.5341\n",
            "[3338/8344] Loss: 3.8029\n",
            "[5007/8344] Loss: 3.7249\n",
            "[6676/8344] Loss: 3.6900\n",
            "\tLoss:\t30291.119\n",
            "start predicting:  2020-07-15 03:18:22.064346\n",
            "Best Result:\n",
            "\tRecall@3:\t36.2336\tMMR@3:\t26.7460\tEpoch:\t3,\t3\n",
            "False    845\n",
            "True     155\n",
            "Name: challenge, dtype: int64\n",
            "-------------------------------------------------------\n",
            "epoch:  4\n",
            "start training:  2020-07-15 03:20:03.185147\n",
            "[0/8344] Loss: 3.3126\n",
            "[1669/8344] Loss: 3.4614\n",
            "[3338/8344] Loss: 3.4032\n",
            "[5007/8344] Loss: 3.1465\n",
            "[6676/8344] Loss: 3.8086\n",
            "\tLoss:\t29809.848\n",
            "start predicting:  2020-07-15 03:28:03.742820\n",
            "Best Result:\n",
            "\tRecall@3:\t36.4386\tMMR@3:\t26.9287\tEpoch:\t4,\t4\n",
            "False    847\n",
            "True     153\n",
            "Name: challenge, dtype: int64\n",
            "-------------------------------------------------------\n",
            "epoch:  5\n",
            "start training:  2020-07-15 03:29:43.797036\n",
            "[0/8344] Loss: 3.4364\n",
            "[1669/8344] Loss: 3.6871\n",
            "[3338/8344] Loss: 3.7611\n",
            "[5007/8344] Loss: 3.8595\n",
            "[6676/8344] Loss: 3.4209\n",
            "\tLoss:\t29597.963\n",
            "start predicting:  2020-07-15 03:37:42.536331\n",
            "Best Result:\n",
            "\tRecall@3:\t36.5999\tMMR@3:\t27.0802\tEpoch:\t5,\t5\n",
            "False    842\n",
            "True     158\n",
            "Name: challenge, dtype: int64\n",
            "-------------------------------------------------------\n",
            "epoch:  6\n",
            "start training:  2020-07-15 03:39:20.958247\n",
            "[0/8344] Loss: 3.9625\n",
            "[1669/8344] Loss: 3.3201\n",
            "[3338/8344] Loss: 3.6797\n",
            "[5007/8344] Loss: 3.6494\n",
            "[6676/8344] Loss: 3.0245\n",
            "\tLoss:\t29197.719\n",
            "start predicting:  2020-07-15 03:47:22.067535\n",
            "Best Result:\n",
            "\tRecall@3:\t36.7249\tMMR@3:\t27.1818\tEpoch:\t6,\t6\n",
            "False    843\n",
            "True     157\n",
            "Name: challenge, dtype: int64\n",
            "-------------------------------------------------------\n",
            "Run time: 4065.974884 s\n"
          ],
          "name": "stdout"
        }
      ]
    },
    {
      "cell_type": "code",
      "metadata": {
        "id": "Gmu6Co3YT-ML",
        "colab_type": "code",
        "colab": {
          "base_uri": "https://localhost:8080/",
          "height": 35
        },
        "outputId": "30450e44-b342-440b-f980-191458312a0f"
      },
      "source": [
        "'''\n",
        "print(predict_next_items([1789, 4313, 1229, 2203, 4925, 2783, 5153]))\n",
        "test(model, test_data)\n",
        "'''"
      ],
      "execution_count": 16,
      "outputs": [
        {
          "output_type": "execute_result",
          "data": {
            "application/vnd.google.colaboratory.intrinsic": {
              "type": "string"
            },
            "text/plain": [
              "'\\nprint(predict_next_items([1789, 4313, 1229, 2203, 4925, 2783, 5153]))\\ntest(model, test_data)\\n'"
            ]
          },
          "metadata": {
            "tags": []
          },
          "execution_count": 16
        }
      ]
    },
    {
      "cell_type": "code",
      "metadata": {
        "id": "GrOgPWcnDwu2",
        "colab_type": "code",
        "colab": {
          "base_uri": "https://localhost:8080/",
          "height": 67
        },
        "outputId": "6df123ac-6ee7-4c1d-c8df-826d267849bd"
      },
      "source": [
        "input = test_df[0:10000].groupby(['user_id']).challenge.apply(list).apply(lambda x : x[:9])\n",
        "target = test_df[0:10000].groupby(['user_id']).challenge.apply(list).apply(lambda x : x[9])\n",
        "print((input.apply(predict_next_items).apply(lambda x: x[1]) == target).value_counts())"
      ],
      "execution_count": 25,
      "outputs": [
        {
          "output_type": "stream",
          "text": [
            "False    843\n",
            "True     157\n",
            "Name: challenge, dtype: int64\n"
          ],
          "name": "stdout"
        }
      ]
    },
    {
      "cell_type": "code",
      "metadata": {
        "id": "7NxggI-_7b6t",
        "colab_type": "code",
        "colab": {
          "base_uri": "https://localhost:8080/",
          "height": 234
        },
        "outputId": "f16980f8-04bd-44e8-f01c-adb46e497971"
      },
      "source": [
        "input[0:100].apply(predict_next_items)"
      ],
      "execution_count": 26,
      "outputs": [
        {
          "output_type": "execute_result",
          "data": {
            "text/plain": [
              "user_id\n",
              "4577     [5188, 540, 3389]\n",
              "4578    [3389, 5188, 5164]\n",
              "4579    [5235, 2984, 3007]\n",
              "4583    [5188, 4475, 5164]\n",
              "4584      [2874, 1873, 82]\n",
              "               ...        \n",
              "4805    [3283, 3638, 5235]\n",
              "4807     [3765, 5400, 414]\n",
              "4808    [3638, 3283, 4305]\n",
              "4814     [2129, 1401, 704]\n",
              "4817     [5193, 4147, 548]\n",
              "Name: challenge, Length: 100, dtype: object"
            ]
          },
          "metadata": {
            "tags": []
          },
          "execution_count": 26
        }
      ]
    },
    {
      "cell_type": "code",
      "metadata": {
        "id": "1zStI7zTEm5u",
        "colab_type": "code",
        "colab": {
          "base_uri": "https://localhost:8080/",
          "height": 669
        },
        "outputId": "9fdc41c6-815d-46b3-b8c4-62fdc9988bb1"
      },
      "source": [
        "counter = 0\n",
        "def predict_3_challenges(input_data):\n",
        "  global counter\n",
        "  counter += 1\n",
        "  if counter%1000 == 0:\n",
        "    print(counter/(test_df.shape[0]/10))\n",
        "  return predict_next_items(input_data)\n",
        "  \n",
        "final_dict = test_df.groupby(['user_id']).challenge.apply(list).apply(predict_3_challenges).to_dict()"
      ],
      "execution_count": 27,
      "outputs": [
        {
          "output_type": "stream",
          "text": [
            "0.02516862981979261\n",
            "0.05033725963958522\n",
            "0.07550588945937783\n",
            "0.10067451927917044\n",
            "0.12584314909896305\n",
            "0.15101177891875567\n",
            "0.17618040873854826\n",
            "0.20134903855834088\n",
            "0.2265176683781335\n",
            "0.2516862981979261\n",
            "0.2768549280177187\n",
            "0.30202355783751134\n",
            "0.32719218765730396\n",
            "0.3523608174770965\n",
            "0.37752944729688914\n",
            "0.40269807711668176\n",
            "0.4278667069364744\n",
            "0.453035336756267\n",
            "0.4782039665760596\n",
            "0.5033725963958522\n",
            "0.5285412262156448\n",
            "0.5537098560354374\n",
            "0.57887848585523\n",
            "0.6040471156750227\n",
            "0.6292157454948153\n",
            "0.6543843753146079\n",
            "0.6795530051344005\n",
            "0.704721634954193\n",
            "0.7298902647739857\n",
            "0.7550588945937783\n",
            "0.7802275244135709\n",
            "0.8053961542333635\n",
            "0.8305647840531561\n",
            "0.8557334138729488\n",
            "0.8809020436927414\n",
            "0.906070673512534\n",
            "0.9312393033323266\n",
            "0.9564079331521192\n",
            "0.9815765629719118\n"
          ],
          "name": "stdout"
        }
      ]
    },
    {
      "cell_type": "code",
      "metadata": {
        "id": "y9uJiYPicChZ",
        "colab_type": "code",
        "colab": {}
      },
      "source": [
        "inverse_challenge_id_mapping = {value : key for (key, value) in challenge_id_mapping.items()}"
      ],
      "execution_count": 28,
      "outputs": []
    },
    {
      "cell_type": "code",
      "metadata": {
        "id": "tSbA7UkBYKo2",
        "colab_type": "code",
        "colab": {}
      },
      "source": [
        "ss = pd.read_csv(\"/content/drive/My Drive/Hackathon/Recommendation system/\" + \"sample_submission_J0OjXLi_DDt3uQN.csv\")"
      ],
      "execution_count": 29,
      "outputs": []
    },
    {
      "cell_type": "code",
      "metadata": {
        "id": "dT8VSYSle7CI",
        "colab_type": "code",
        "colab": {}
      },
      "source": [
        "def map_prediction(input_data):\n",
        "  seq_no = int(input_data[-2:]) - 11\n",
        "  return inverse_challenge_id_mapping[final_dict[int(input_data[:-3])][seq_no]]\n",
        "ss['challenge'] = ss['user_sequence'].apply(map_prediction)"
      ],
      "execution_count": 30,
      "outputs": []
    },
    {
      "cell_type": "code",
      "metadata": {
        "id": "pofFiuyBMhob",
        "colab_type": "code",
        "colab": {
          "base_uri": "https://localhost:8080/",
          "height": 196
        },
        "outputId": "5fe580f8-ffcf-4456-fbbd-32ad3c6269b0"
      },
      "source": [
        "ss.head()"
      ],
      "execution_count": 31,
      "outputs": [
        {
          "output_type": "execute_result",
          "data": {
            "text/html": [
              "<div>\n",
              "<style scoped>\n",
              "    .dataframe tbody tr th:only-of-type {\n",
              "        vertical-align: middle;\n",
              "    }\n",
              "\n",
              "    .dataframe tbody tr th {\n",
              "        vertical-align: top;\n",
              "    }\n",
              "\n",
              "    .dataframe thead th {\n",
              "        text-align: right;\n",
              "    }\n",
              "</style>\n",
              "<table border=\"1\" class=\"dataframe\">\n",
              "  <thead>\n",
              "    <tr style=\"text-align: right;\">\n",
              "      <th></th>\n",
              "      <th>user_sequence</th>\n",
              "      <th>challenge</th>\n",
              "    </tr>\n",
              "  </thead>\n",
              "  <tbody>\n",
              "    <tr>\n",
              "      <th>0</th>\n",
              "      <td>4577_11</td>\n",
              "      <td>CI23691</td>\n",
              "    </tr>\n",
              "    <tr>\n",
              "      <th>1</th>\n",
              "      <td>4577_12</td>\n",
              "      <td>CI24527</td>\n",
              "    </tr>\n",
              "    <tr>\n",
              "      <th>2</th>\n",
              "      <td>4577_13</td>\n",
              "      <td>CI23648</td>\n",
              "    </tr>\n",
              "    <tr>\n",
              "      <th>3</th>\n",
              "      <td>4578_11</td>\n",
              "      <td>CI23691</td>\n",
              "    </tr>\n",
              "    <tr>\n",
              "      <th>4</th>\n",
              "      <td>4578_12</td>\n",
              "      <td>CI23848</td>\n",
              "    </tr>\n",
              "  </tbody>\n",
              "</table>\n",
              "</div>"
            ],
            "text/plain": [
              "  user_sequence challenge\n",
              "0       4577_11   CI23691\n",
              "1       4577_12   CI24527\n",
              "2       4577_13   CI23648\n",
              "3       4578_11   CI23691\n",
              "4       4578_12   CI23848"
            ]
          },
          "metadata": {
            "tags": []
          },
          "execution_count": 31
        }
      ]
    },
    {
      "cell_type": "code",
      "metadata": {
        "id": "jk27cRgNhGiJ",
        "colab_type": "code",
        "colab": {}
      },
      "source": [
        "ss.to_csv(\"/content/drive/My Drive/Hackathon/Recommendation system/\" + \"sample_submission_srgnn.csv\", index=False)"
      ],
      "execution_count": 32,
      "outputs": []
    },
    {
      "cell_type": "code",
      "metadata": {
        "id": "X8xpC6AuIhFg",
        "colab_type": "code",
        "colab": {}
      },
      "source": [
        ""
      ],
      "execution_count": 24,
      "outputs": []
    }
  ]
}